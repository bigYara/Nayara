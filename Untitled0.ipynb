{
  "nbformat": 4,
  "nbformat_minor": 0,
  "metadata": {
    "colab": {
      "provenance": [],
      "authorship_tag": "ABX9TyO/hQDBoMu84ZRdMZEbwxni",
      "include_colab_link": true
    },
    "kernelspec": {
      "name": "python3",
      "display_name": "Python 3"
    },
    "language_info": {
      "name": "python"
    }
  },
  "cells": [
    {
      "cell_type": "markdown",
      "metadata": {
        "id": "view-in-github",
        "colab_type": "text"
      },
      "source": [
        "<a href=\"https://colab.research.google.com/github/bigYara/Nayara/blob/main/Untitled0.ipynb\" target=\"_parent\"><img src=\"https://colab.research.google.com/assets/colab-badge.svg\" alt=\"Open In Colab\"/></a>"
      ]
    },
    {
      "cell_type": "code",
      "execution_count": 4,
      "metadata": {
        "colab": {
          "base_uri": "https://localhost:8080/"
        },
        "id": "RKP_MxEKMIgs",
        "outputId": "3bc9ed3d-f16c-4fe4-b5ad-66957eddc442"
      },
      "outputs": [
        {
          "output_type": "stream",
          "name": "stdout",
          "text": [
            "qual será a primeira nota?20\n",
            "qual será a segunda nota?25\n",
            "qual será a terceira nota?10\n",
            "a media das notas é 18.333333333333332\n"
          ]
        }
      ],
      "source": [
        "not1 = int(input('qual será a primeira nota?'))\n",
        "not2 = int(input('qual será a segunda nota?'))\n",
        "not3 = int(input('qual será a terceira nota?'))\n",
        "resultado = (not1+not2+not3)/3\n",
        "print('a media das notas é',resultado)"
      ]
    }
  ]
}